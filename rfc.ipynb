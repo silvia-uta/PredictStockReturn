{
 "cells": [
  {
   "cell_type": "code",
   "execution_count": 1,
   "id": "daf0eea7",
   "metadata": {},
   "outputs": [],
   "source": [
    "import pandas as pd\n",
    "import numpy as np\n",
    "import matplotlib.pyplot as plt\n",
    "\n",
    "import joblib"
   ]
  },
  {
   "cell_type": "code",
   "execution_count": 2,
   "id": "facfca8f",
   "metadata": {},
   "outputs": [],
   "source": [
    "import sklearn"
   ]
  },
  {
   "cell_type": "code",
   "execution_count": 3,
   "id": "e809d597",
   "metadata": {},
   "outputs": [],
   "source": [
    "import datetime"
   ]
  },
  {
   "cell_type": "markdown",
   "id": "f374a088",
   "metadata": {},
   "source": [
    "# Read data"
   ]
  },
  {
   "cell_type": "code",
   "execution_count": 4,
   "id": "092f3ef0",
   "metadata": {},
   "outputs": [
    {
     "name": "stdout",
     "output_type": "stream",
     "text": [
      "\n",
      "Start Preprocessing for final_training_xy_2.csv...\n",
      "- 1486 tickers selected. m-factors added.\n",
      "- NA rows for m_ret_next are dropped.\n",
      "- 65 good columns selected.\n",
      "- Fill NA complete.\n",
      "- Trading indicators added.\n",
      "- Final NA-drop dropped 0 rows\n",
      "Data cleaning complete.\n"
     ]
    }
   ],
   "source": [
    "from data_cleaner import get_cleaned_data\n",
    "\n",
    "df = get_cleaned_data(\"final_training_xy_2.csv\")"
   ]
  },
  {
   "cell_type": "code",
   "execution_count": 3,
   "id": "d321dca2",
   "metadata": {},
   "outputs": [],
   "source": [
    "models = {} # store all the models"
   ]
  },
  {
   "cell_type": "code",
   "execution_count": 5,
   "id": "eade52d9",
   "metadata": {},
   "outputs": [],
   "source": [
    "features = pd.read_csv(\"rfc_features.csv\").iloc[:, -1].tolist()"
   ]
  },
  {
   "cell_type": "markdown",
   "id": "621e4ed0",
   "metadata": {},
   "source": [
    "# Train Test Split"
   ]
  },
  {
   "cell_type": "code",
   "execution_count": 6,
   "id": "4a6d446d",
   "metadata": {},
   "outputs": [],
   "source": [
    "from sklearn.model_selection import train_test_split\n",
    "\n",
    "X = df[features].copy()\n",
    "y = np.where(df.m_ret_next > 0, 1, 0) # negative return as 0, positive return as 1\n",
    "X_train, X_test, y_train, y_test = train_test_split(X, y, test_size=0.2, random_state=42)"
   ]
  },
  {
   "cell_type": "code",
   "execution_count": 7,
   "id": "e5f1cecb",
   "metadata": {},
   "outputs": [
    {
     "data": {
      "text/plain": [
       "(70524, 59)"
      ]
     },
     "execution_count": 7,
     "metadata": {},
     "output_type": "execute_result"
    }
   ],
   "source": [
    "X.shape"
   ]
  },
  {
   "cell_type": "code",
   "execution_count": 9,
   "id": "4b3c33dd",
   "metadata": {},
   "outputs": [],
   "source": [
    "#%% Result Printing helper\n",
    "from sklearn.metrics import classification_report, confusion_matrix, accuracy_score\n",
    "\n",
    "def result(y,pred,name):\n",
    "\n",
    "    text = '\\n'\n",
    "    text += 30*'-' + name + 30*'-' + '\\n'\n",
    "\n",
    "    cm = confusion_matrix(y, pred)\n",
    "    accuracy = accuracy_score(y, pred)*100\n",
    "    # F1_score = f1_score(y,pred)*100\n",
    "\n",
    "    text += 'Confusion matrix:\\n %s'%cm\n",
    "    text += '\\nAccuracy: %.8f %%' % accuracy\n",
    "    # text += '\\nf1 score: %.4f %%' % F1_score\n",
    "\n",
    "    # summary report\n",
    "    cs = classification_report(y, pred, digits=6)\n",
    "    text += '\\nClassification Summary:\\n%s'%cs\n",
    "\n",
    "    return text"
   ]
  },
  {
   "cell_type": "markdown",
   "id": "6d888061",
   "metadata": {},
   "source": [
    "# Defatul Parameter"
   ]
  },
  {
   "cell_type": "code",
   "execution_count": 8,
   "id": "ffa52152",
   "metadata": {},
   "outputs": [],
   "source": [
    "#%% Defatul Parameter\n",
    "from sklearn.ensemble import RandomForestClassifier\n",
    "\n",
    "rfc = RandomForestClassifier(random_state=0)\n",
    "rfc.fit(X_train, y_train)\n",
    "y_pred_base = rfc.predict(X_test)"
   ]
  },
  {
   "cell_type": "code",
   "execution_count": 9,
   "id": "9acb01cc",
   "metadata": {},
   "outputs": [
    {
     "name": "stdout",
     "output_type": "stream",
     "text": [
      "\n",
      "------------------------------Default Params------------------------------\n",
      "Confusion matrix:\n",
      " [[3783 2469]\n",
      " [1671 6182]]\n",
      "Accuracy: 70.64870613 %\n",
      "Classification Summary:\n",
      "              precision    recall  f1-score   support\n",
      "\n",
      "           0   0.693619  0.605086  0.646335      6252\n",
      "           1   0.714599  0.787215  0.749152      7853\n",
      "\n",
      "    accuracy                       0.706487     14105\n",
      "   macro avg   0.704109  0.696151  0.697743     14105\n",
      "weighted avg   0.705300  0.706487  0.703579     14105\n",
      "\n"
     ]
    }
   ],
   "source": [
    "name = \"Default Params\"\n",
    "base_result = result(y_test, y_pred_base, name)\n",
    "print(base_result)\n",
    "\n",
    "joblib.dump(rfc,\"best_models/\" + name)\n",
    "models[name] = rfc"
   ]
  },
  {
   "cell_type": "markdown",
   "id": "8688b368",
   "metadata": {},
   "source": [
    "# RandomSearchCV"
   ]
  },
  {
   "cell_type": "code",
   "execution_count": 10,
   "id": "9da5b7f3",
   "metadata": {},
   "outputs": [
    {
     "name": "stdout",
     "output_type": "stream",
     "text": [
      "{'n_estimators': [200, 400, 600, 800, 1000, 1200, 1400, 1600, 1800, 2000], 'criterion': ['entropy'], 'max_features': ['auto', 'log2', 'sqrt'], 'max_depth': [10, 20, 30, 40, 50, 60, 70, 80, 90, 100, 110, None], 'min_samples_split': [2, 5, 10], 'min_samples_leaf': [1, 2, 4], 'bootstrap': [True, False]}\n"
     ]
    }
   ],
   "source": [
    "#%% Random search CV to find an overall tree structure\n",
    "\n",
    "from sklearn.model_selection import RandomizedSearchCV\n",
    "\n",
    "n_estimators = [int(x) for x in np.linspace(start = 200, stop = 2000, num = 10)]\n",
    "\n",
    "criterion = ['entropy']\n",
    "max_features = ['auto', 'log2', 'sqrt']\n",
    "\n",
    "max_depth = [int(x) for x in np.linspace(10, 110, num = 11)]\n",
    "max_depth.append(None)\n",
    "\n",
    "min_samples_split = [2, 5, 10]\n",
    "\n",
    "min_samples_leaf = [1, 2, 4]\n",
    "\n",
    "# Whether bootstrap samples are used when building trees. \n",
    "# If False, the whole dataset is used to build each tree.\n",
    "bootstrap = [True, False]\n",
    "\n",
    "# Create the random grid\n",
    "random_grid = {'n_estimators': n_estimators,\n",
    "               'criterion': criterion,\n",
    "               'max_features': max_features,\n",
    "               'max_depth': max_depth,\n",
    "               'min_samples_split': min_samples_split,\n",
    "               'min_samples_leaf': min_samples_leaf,\n",
    "               'bootstrap': bootstrap}\n",
    "\n",
    "print(random_grid)"
   ]
  },
  {
   "cell_type": "code",
   "execution_count": 13,
   "id": "2d7f980d",
   "metadata": {},
   "outputs": [],
   "source": [
    "## Will run 5 hours +\n",
    "# rfc_random = RandomizedSearchCV(estimator = RandomForestClassifier(), \n",
    "#                                 param_distributions = random_grid, \n",
    "#                                 n_iter = 100, cv = 3, verbose=2, n_jobs = 5)\n",
    "\n",
    "# rfc_random.fit(X_train, y_train)\n",
    "# print(rfc_grid.best_params_)\n",
    "# print(rfc_grid.best_score_)"
   ]
  },
  {
   "cell_type": "markdown",
   "id": "77955e38",
   "metadata": {},
   "source": [
    "# Best RandomSearchCV"
   ]
  },
  {
   "cell_type": "code",
   "execution_count": 14,
   "id": "a2a36ed5",
   "metadata": {},
   "outputs": [
    {
     "name": "stdout",
     "output_type": "stream",
     "text": [
      "\n",
      "------------------------------Random CV------------------------------\n",
      "Confusion matrix:\n",
      " [[3670 2582]\n",
      " [1464 6389]]\n",
      "Accuracy: 71.31513648 %\n",
      "Classification Summary:\n",
      "              precision    recall  f1-score   support\n",
      "\n",
      "           0   0.714842  0.587012  0.644651      6252\n",
      "           1   0.712184  0.813574  0.759510      7853\n",
      "\n",
      "    accuracy                       0.713151     14105\n",
      "   macro avg   0.713513  0.700293  0.702081     14105\n",
      "weighted avg   0.713362  0.713151  0.708599     14105\n",
      "\n"
     ]
    }
   ],
   "source": [
    "rand_best_params = {'n_estimators': 1800,\n",
    " 'min_samples_split': 5,\n",
    " 'min_samples_leaf': 4,\n",
    " 'max_features': 'auto',\n",
    " 'max_depth': 50,\n",
    " 'criterion': 'entropy',\n",
    " 'bootstrap': True}\n",
    "\n",
    "rfc_random = RandomForestClassifier()\n",
    "rfc_random.set_params(**rand_best_params)\n",
    "rfc_random.fit(X_train, y_train)\n",
    "\n",
    "y_pred_rand = rfc_random.predict(X_test)\n",
    "name = \"Random CV\"\n",
    "models[name] = rfc_random\n",
    "rcv_result = result(y_test, y_pred_rand, name)\n",
    "print(rcv_result)\n",
    "\n",
    "joblib.dump(rfc_random,\"best_models/\" + name)\n",
    "models[name] = rfc_random"
   ]
  },
  {
   "cell_type": "markdown",
   "id": "88f13ca9",
   "metadata": {},
   "source": [
    "# Cost-complexity Pruning (CCP)"
   ]
  },
  {
   "cell_type": "code",
   "execution_count": 51,
   "id": "3521b5c6",
   "metadata": {},
   "outputs": [
    {
     "name": "stdout",
     "output_type": "stream",
     "text": [
      "Fitting 67/67 \n",
      "Number of nodes in the last tree is: 111 with ccp_alpha: 0.0003471357886377993\n"
     ]
    },
    {
     "data": {
      "image/png": "[encoded data removed]",
      "text/plain": [
       "<Figure size 432x288 with 1 Axes>"
      ]
     },
     "metadata": {
      "needs_background": "light"
     },
     "output_type": "display_data"
    },
    {
     "data": {
      "image/png": "[encoded data removed]",
      "text/plain": [
       "<Figure size 432x288 with 2 Axes>"
      ]
     },
     "metadata": {
      "needs_background": "light"
     },
     "output_type": "display_data"
    },
    {
     "data": {
      "image/png": "[encoded data removed]",
      "text/plain": [
       "<Figure size 432x288 with 1 Axes>"
      ]
     },
     "metadata": {
      "needs_background": "light"
     },
     "output_type": "display_data"
    }
   ],
   "source": [
    "#%% Choose good ccp_alpha by decision tree\n",
    "import ccp_alpha_chooser\n",
    "\n",
    "ccp_alpha_chooser.evaluate(X_train, X_test, y_train, y_test)"
   ]
  },
  {
   "cell_type": "markdown",
   "id": "92b0cdc2",
   "metadata": {},
   "source": [
    "## Grid Search CV"
   ]
  },
  {
   "cell_type": "code",
   "execution_count": 17,
   "id": "649f6179",
   "metadata": {},
   "outputs": [
    {
     "name": "stdout",
     "output_type": "stream",
     "text": [
      "{'n_estimators': [1000, 1800], 'min_samples_split': [2, 3, 5], 'min_samples_leaf': [3, 4, 5], 'max_features': ['auto'], 'max_depth': [50, 60], 'criterion': ['entropy'], 'bootstrap': [True], 'oob_score': [True, False], 'ccp_alpha': [0, 5e-05, 7.5e-05, 0.0001]}\n"
     ]
    }
   ],
   "source": [
    "#%% Grid search CV to find an overall tree structure\n",
    "\n",
    "from sklearn.model_selection import GridSearchCV\n",
    "\n",
    "param_grid = {\n",
    "    'n_estimators': [1000, 1800],\n",
    "    'min_samples_split': [2, 3, 5],\n",
    "    'min_samples_leaf': [3,4,5],\n",
    "    'max_features': ['auto'],\n",
    "    'max_depth': [50, 60],\n",
    "    'criterion': ['entropy'],\n",
    "    'bootstrap': [True],\n",
    "    'oob_score': [True, False],\n",
    "    'ccp_alpha': [0, 0.00005, 0.000075, 0.0001]\n",
    "    }\n",
    "\n",
    "print(param_grid)"
   ]
  },
  {
   "cell_type": "code",
   "execution_count": 18,
   "id": "b3676dde",
   "metadata": {},
   "outputs": [],
   "source": [
    "## Will run 5 hour +\n",
    "# rfc_grid = GridSearchCV(estimator = RandomForestClassifier(), param_grid = param_grid, \n",
    "#                           cv = 3, n_jobs = 11, verbose = 3)\n",
    "\n",
    "# rfc_grid.fit(X_train, y_train)\n",
    "# print(rfc_grid.best_params_)\n",
    "# print(rfc_grid.best_score_)"
   ]
  },
  {
   "cell_type": "markdown",
   "id": "fd0aae0b",
   "metadata": {},
   "source": [
    "## Best GridSearchCV"
   ]
  },
  {
   "cell_type": "code",
   "execution_count": 19,
   "id": "c9259c4d",
   "metadata": {},
   "outputs": [
    {
     "name": "stdout",
     "output_type": "stream",
     "text": [
      "\n",
      "------------------------------Best RFC------------------------------\n",
      "Confusion matrix:\n",
      " [[3672 2580]\n",
      " [1462 6391]]\n",
      "Accuracy: 71.34349521 %\n",
      "Classification Summary:\n",
      "              precision    recall  f1-score   support\n",
      "\n",
      "           0   0.715232  0.587332  0.645003      6252\n",
      "           1   0.712407  0.813829  0.759748      7853\n",
      "\n",
      "    accuracy                       0.713435     14105\n",
      "   macro avg   0.713819  0.700581  0.702375     14105\n",
      "weighted avg   0.713659  0.713435  0.708887     14105\n",
      "\n"
     ]
    }
   ],
   "source": [
    "#%% Best Grid Search\n",
    "\n",
    "best_params = {'bootstrap': True,\n",
    " 'ccp_alpha': 7.5e-05,\n",
    " 'criterion': 'entropy',\n",
    " 'max_depth': 60,\n",
    " 'max_features': 'auto',\n",
    " 'min_samples_leaf': 4,\n",
    " 'min_samples_split': 2,\n",
    " 'n_estimators': 1000,\n",
    " 'oob_score': True}\n",
    "\n",
    "rfc_grid = RandomForestClassifier(random_state=0)\n",
    "rfc_grid.set_params(**best_params)\n",
    "rfc_grid.fit(X_train, y_train)\n",
    "\n",
    "y_pred = rfc_grid.predict(X_test)\n",
    "name = \"Best RFC\"\n",
    "models[name] = rfc_grid\n",
    "print(result(y_test, y_pred, name))\n",
    "\n",
    "joblib.dump(rfc_grid,\"best_models/\" + name)\n",
    "models[name] = rfc_grid"
   ]
  },
  {
   "cell_type": "markdown",
   "id": "51771e4b",
   "metadata": {},
   "source": [
    "# BEST PARAMETERS AND MODEL"
   ]
  },
  {
   "cell_type": "code",
   "execution_count": 21,
   "id": "a2a36ed5",
   "metadata": {},
   "outputs": [],
   "source": [
    "best_params = {'bootstrap': True,\n",
    " 'ccp_alpha': 7.5e-05,\n",
    " 'criterion': 'entropy',\n",
    " 'max_depth': 60,\n",
    " 'max_features': 'auto',\n",
    " 'min_samples_leaf': 4,\n",
    " 'min_samples_split': 2,\n",
    " 'n_estimators': 1000,\n",
    " 'oob_score': True}"
   ]
  },
  {
   "cell_type": "markdown",
   "id": "fdc66655",
   "metadata": {},
   "source": [
    "## Finally, fit on the whole training set"
   ]
  },
  {
   "cell_type": "code",
   "execution_count": 2,
   "id": "bb9754f5",
   "metadata": {},
   "outputs": [],
   "source": [
    "name = \"grow_fall_rfc_model\""
   ]
  },
  {
   "cell_type": "code",
   "execution_count": 86,
   "id": "94355af3",
   "metadata": {},
   "outputs": [
    {
     "data": {
      "text/plain": [
       "['best_models/grow_fall_rfc_model']"
      ]
     },
     "execution_count": 86,
     "metadata": {},
     "output_type": "execute_result"
    }
   ],
   "source": [
    "rfc = RandomForestClassifier(random_state=0)\n",
    "rfc.set_params(**best_params)\n",
    "rfc.fit(X, y)\n",
    "joblib.dump(rfc,\"best_models/\" + name)"
   ]
  },
  {
   "cell_type": "code",
   "execution_count": 3,
   "id": "46a9c819",
   "metadata": {},
   "outputs": [],
   "source": [
    "rfc_test = joblib.load(\"best_models/\" + name)"
   ]
  },
  {
   "cell_type": "code",
   "execution_count": 10,
   "id": "eb7c624d",
   "metadata": {},
   "outputs": [
    {
     "name": "stdout",
     "output_type": "stream",
     "text": [
      "\n",
      "------------------------------grow_fall_rfc_model------------------------------\n",
      "Confusion matrix:\n",
      " [[29910  1626]\n",
      " [  764 38224]]\n",
      "Accuracy: 96.61108275 %\n",
      "Classification Summary:\n",
      "              precision    recall  f1-score   support\n",
      "\n",
      "           0   0.975093  0.948440  0.961582     31536\n",
      "           1   0.959197  0.980404  0.969685     38988\n",
      "\n",
      "    accuracy                       0.966111     70524\n",
      "   macro avg   0.967145  0.964422  0.965633     70524\n",
      "weighted avg   0.966305  0.966111  0.966061     70524\n",
      "\n"
     ]
    }
   ],
   "source": [
    "# In-sample performance\n",
    "y_pred = rfc_test.predict(X)\n",
    "print(result(y, y_pred, name))"
   ]
  },
  {
   "cell_type": "code",
   "execution_count": 15,
   "id": "32734ff1",
   "metadata": {},
   "outputs": [
    {
     "data": {
      "text/plain": [
       "['grow_fall_rfc_model.dat']"
      ]
     },
     "execution_count": 15,
     "metadata": {},
     "output_type": "execute_result"
    }
   ],
   "source": [
    "joblib.dump(rfc_test, \"grow_fall_rfc_model.dat\", compress=9)"
   ]
  },
  {
   "cell_type": "code",
   "execution_count": null,
   "id": "df5dc920",
   "metadata": {},
   "outputs": [],
   "source": []
  },
  {
   "cell_type": "code",
   "execution_count": null,
   "id": "5f7f386c",
   "metadata": {},
   "outputs": [],
   "source": []
  },
  {
   "cell_type": "code",
   "execution_count": null,
   "id": "6bc63bdd",
   "metadata": {},
   "outputs": [],
   "source": []
  }
 ],
 "metadata": {
  "hide_input": false,
  "interpreter": {
   "hash": "31f2aee4e71d21fbe5cf8b01ff0e069b9275f58929596ceb00d14d90e3e16cd6"
  },
  "kernelspec": {
   "display_name": "Python 3.8.8 64-bit ('base': conda)",
   "language": "python",
   "name": "python3"
  },
  "language_info": {
   "codemirror_mode": {
    "name": "ipython",
    "version": 3
   },
   "file_extension": ".py",
   "mimetype": "text/x-python",
   "name": "python",
   "nbconvert_exporter": "python",
   "pygments_lexer": "ipython3",
   "version": "3.9.7"
  }
 },
 "nbformat": 4,
 "nbformat_minor": 5
}
